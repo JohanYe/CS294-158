{
 "cells": [
  {
   "cell_type": "code",
   "execution_count": 4,
   "metadata": {},
   "outputs": [],
   "source": [
    "import numpy as np\n",
    "import matplotlib.pyplot as plt\n",
    "import torch\n",
    "import torch.nn as nn\n",
    "import torch.nn.functional as F\n",
    "import torch.optim as optim\n",
    "import pickle\n",
    "import os"
   ]
  },
  {
   "cell_type": "code",
   "execution_count": 24,
   "metadata": {},
   "outputs": [],
   "source": [
    "with open('./hw2_q2.pkl', 'rb') as f:\n",
    "    data = pickle.load(f)\n",
    "\n",
    "x_train = np.transpose(data['train'], [0,3,1,2])\n",
    "x_test = np.transpose(data['test'],[0,3,1,2])"
   ]
  },
  {
   "cell_type": "code",
   "execution_count": null,
   "metadata": {},
   "outputs": [],
   "source": [
    "class ResidualBlock(nn.Module):\n",
    "    \n",
    "    def __init__(self, n_channels):\n",
    "        super(ResidualBlock, self).__init__()\n",
    "        \n",
    "        self.n_channels = n_channels\n",
    "        self.layers = nn.Sequential(\n",
    "            nn.Conv2d(self.n_channels, self.n_channels // 2, kernel_size=1),\n",
    "            nn.ReLU(),\n",
    "            nn.Conv2d(self.n_channels // 2, self.n_channels // 2, kernel_size=3)\n",
    "            nn\n",
    "            \n",
    "        \n",
    "        \n",
    "        )"
   ]
  },
  {
   "cell_type": "code",
   "execution_count": null,
   "metadata": {},
   "outputs": [],
   "source": [
    "# Preprocessing from 4.1 RealNVP paper\n",
    "\n",
    "def logit(x, Forward=True):\n",
    "    if Forward:\n",
    "        z = torch.log(x) - torch.log(1 - x)\n",
    "        diag = torch.flatten(torch.abs(1 / x + 1/ (1-x)), start_dim=1)\n",
    "        log_determinant = torch.dum(torch.log(diag), dim=1, keepdim=True)\n",
    "        return z, log_determinant\n",
    "    else:\n",
    "        z = torch.exp(x)\n",
    "        z = z / (z+1)\n",
    "        return z\n",
    "        \n",
    "    \n"
   ]
  }
 ],
 "metadata": {
  "kernelspec": {
   "display_name": "Python 3",
   "language": "python",
   "name": "python3"
  },
  "language_info": {
   "codemirror_mode": {
    "name": "ipython",
    "version": 3
   },
   "file_extension": ".py",
   "mimetype": "text/x-python",
   "name": "python",
   "nbconvert_exporter": "python",
   "pygments_lexer": "ipython3",
   "version": "3.7.4"
  }
 },
 "nbformat": 4,
 "nbformat_minor": 2
}
