{
 "cells": [
  {
   "cell_type": "code",
   "execution_count": 28,
   "metadata": {},
   "outputs": [],
   "source": [
    "# Needed more computational power so moved to colab at least temporarily\n",
    "import torch\n",
    "import numpy as np\n",
    "import matplotlib.pyplot as plt   \n",
    "import pickle\n",
    "import torch.nn.functional as F\n",
    "import torch.nn as nn\n",
    "import seaborn as sns \n",
    "import os\n",
    "import torch.optim as optim\n",
    "\n",
    "device = torch.device('cuda' if torch.cuda.is_available() else 'cpu')"
   ]
  },
  {
   "cell_type": "code",
   "execution_count": 29,
   "metadata": {},
   "outputs": [
    {
     "data": {
      "text/plain": [
       "device(type='cuda')"
      ]
     },
     "execution_count": 29,
     "metadata": {},
     "output_type": "execute_result"
    }
   ],
   "source": [
    "device"
   ]
  },
  {
   "cell_type": "code",
   "execution_count": 30,
   "metadata": {},
   "outputs": [],
   "source": [
    "# Hyperparams\n",
    "n_epochs = 5\n",
    "batch_size = 128\n",
    "lr = 1e-3\n",
    "train_log = []\n",
    "val_log = {}\n",
    "k = 0\n",
    "best_nll = np.inf"
   ]
  },
  {
   "cell_type": "code",
   "execution_count": 31,
   "metadata": {},
   "outputs": [],
   "source": [
    "# Loading data\n",
    "pickle_file = 'C:/Users/Johan/Downloads/mnist-hw1.pkl'\n",
    "#path = '/content/drive/My Drive/mnist-hw1.pkl'\n",
    "mnist = pickle.load(open(pickle_file,'rb'))\n",
    "\n",
    "X_train = mnist['train'][:20000].astype('float32')\n",
    "train_loader = torch.utils.data.DataLoader(torch.from_numpy(X_train), batch_size=batch_size, shuffle=True)\n",
    "\n",
    "X_val = mnist['test'][:2000].astype('float32')\n",
    "val_loader = torch.utils.data.DataLoader(torch.from_numpy(X_val), batch_size=batch_size, shuffle=True)"
   ]
  },
  {
   "cell_type": "code",
   "execution_count": 32,
   "metadata": {},
   "outputs": [
    {
     "data": {
      "image/png": "[encoded data removed]",
      "text/plain": [
       "<Figure size 360x360 with 16 Axes>"
      ]
     },
     "metadata": {
      "needs_background": "light"
     },
     "output_type": "display_data"
    }
   ],
   "source": [
    "fig, ax = plt.subplots(4,4,figsize=(5,5))\n",
    "for i in range(4):\n",
    "    for j in range(4):\n",
    "        ax[i,j].imshow(X_val[4*i+j]/3)\n",
    "        ax[i,j].axis('off')"
   ]
  },
  {
   "cell_type": "code",
   "execution_count": 33,
   "metadata": {},
   "outputs": [],
   "source": [
    "class MaskedConv2d(nn.Conv2d):\n",
    "    \"\"\" Masked Conv2d spatial mask only.\"\"\"\n",
    "    \n",
    "    #args and kwargs take undefined input args\n",
    "    def __init__(self,mask_type='A', *args, **kwargs):\n",
    "        super(MaskedConv2d,self).__init__(*args, **kwargs)\n",
    "        \n",
    "        assert mask_type in {'A', 'B'}\n",
    "        \n",
    "        mask = torch.ones_like(self.weight)\n",
    "        _, _, height, width = self.weight.shape\n",
    "        \n",
    "        #Spatial masking\n",
    "        mask[:, :, height // 2, width // 2 + (mask_type == 'B'):] = 0 \n",
    "        mask[:, :, height // 2 + 1:] = 0\n",
    "        self.register_buffer('mask',mask)\n",
    "        \n",
    "    def forward(self,x):\n",
    "        self.weight.data = self.weight.data.mul(self.mask) #inplace operation is faster\n",
    "        return super(MaskedConv2d, self).forward(x)"
   ]
  },
  {
   "cell_type": "code",
   "execution_count": 34,
   "metadata": {},
   "outputs": [],
   "source": [
    "class ResNetBlock(nn.Module):\n",
    "    \"\"\"According to PixelCNN paper article 1 figure 5 and table 1\n",
    "    https://arxiv.org/pdf/1601.06759.pdf\n",
    "    \"\"\"\n",
    "\n",
    "    def __init__(self,in_channels):\n",
    "        super(ResNetBlock,self).__init__()\n",
    "\n",
    "        self.h = in_channels//2\n",
    "        self.out = nn.Sequential(\n",
    "            nn.ReLU(), #Relu first, strange setup\n",
    "            nn.Conv2d(in_channels,self.h,kernel_size=1),\n",
    "            nn.ReLU(),\n",
    "            # padding to conserve shape.\n",
    "            MaskedConv2d(in_channels=self.h,out_channels=self.h,kernel_size=3,padding=1,mask_type='B'),\n",
    "            nn.ReLU(),\n",
    "            nn.Conv2d(self.h,in_channels,kernel_size=1)\n",
    "        )\n",
    "\n",
    "    def forward(self,x):\n",
    "        return self.out(x) + x"
   ]
  },
  {
   "cell_type": "code",
   "execution_count": 35,
   "metadata": {},
   "outputs": [],
   "source": [
    "class PixelCNN(nn.Module):\n",
    "\n",
    "    def __init__(self,n_layers=12, n_filters=128,n_classes=4,final_channels=3):\n",
    "        # 4 channels due to two bits per dim.\n",
    "        super(PixelCNN,self).__init__()\n",
    "        \n",
    "        self.n_classes = n_classes\n",
    "        self.final_channels = final_channels\n",
    "        \n",
    "        #padding=3 so it can start in [0,0], otherwise it has to start inside the image.\n",
    "        layers = [MaskedConv2d(in_channels=3,out_channels=n_filters,kernel_size=7,padding=3,mask_type='A')]\n",
    "\n",
    "        for i in range(n_layers):\n",
    "            layers.append(ResNetBlock(n_filters))\n",
    "\n",
    "        # PixelCNN paper uses 1024 for colored data\n",
    "        layers += [nn.ReLU()] + \\\n",
    "                [MaskedConv2d(in_channels=n_filters,out_channels=1024,kernel_size=1,mask_type='B')] +\\\n",
    "                [nn.ReLU()] +\\\n",
    "                [MaskedConv2d(in_channels=1024,out_channels=final_channels*n_classes,kernel_size=1,mask_type='B')]\n",
    "\n",
    "        self.layers = nn.Sequential(*layers)\n",
    "\n",
    "    def forward(self, x):\n",
    "        x = self.layers(x)\n",
    "        logits = x.view([x.shape[0], self.n_classes, self.final_channels, x.shape[2], x.shape[3]])\n",
    "        out = F.softmax(logits, dim=1)  # [N, n_classes, C, H, W]\n",
    "        return logits, out\n",
    "\n",
    "    def _sample(self, n_samples=1):\n",
    "        samples = torch.Tensor(np.random.choice(4, size=(n_samples, 28, 28, 3)))\n",
    "\n",
    "        for i in range(28):\n",
    "            for j in range(28):\n",
    "                out = self(samples)\n",
    "                intensity = torch.distributions.Categorical(out).sample()\n",
    "                samples[:, i, j, :] = intensity[:, i, j, :]\n",
    "\n",
    "        return samples"
   ]
  },
  {
   "cell_type": "code",
   "execution_count": 36,
   "metadata": {},
   "outputs": [],
   "source": [
    "net = PixelCNN().to(device)\n",
    "optimizer = optim.Adam(net.parameters(),lr=lr)"
   ]
  },
  {
   "cell_type": "code",
   "execution_count": 37,
   "metadata": {},
   "outputs": [],
   "source": [
    "def calc_loss(logits, batch):\n",
    "    # Divide by 2 for NLL per bit\n",
    "    #print(logits.shape,batch.shape)\n",
    "    loss = F.cross_entropy(logits, batch.long(), reduction='sum') / batch_size \n",
    "    return loss"
   ]
  },
  {
   "cell_type": "code",
   "execution_count": 38,
   "metadata": {},
   "outputs": [
    {
     "name": "stdout",
     "output_type": "stream",
     "text": [
      "torch.Size([128, 4, 3, 28, 28]) torch.Size([128, 3, 28, 28])\n",
      "torch.Size([128, 4, 3, 28, 28]) torch.Size([128, 3, 28, 28])\n",
      "torch.Size([128, 4, 3, 28, 28]) torch.Size([128, 3, 28, 28])\n",
      "torch.Size([128, 4, 3, 28, 28]) torch.Size([128, 3, 28, 28])\n",
      "torch.Size([128, 4, 3, 28, 28]) torch.Size([128, 3, 28, 28])\n",
      "torch.Size([128, 4, 3, 28, 28]) torch.Size([128, 3, 28, 28])\n",
      "torch.Size([128, 4, 3, 28, 28]) torch.Size([128, 3, 28, 28])\n",
      "torch.Size([128, 4, 3, 28, 28]) torch.Size([128, 3, 28, 28])\n",
      "torch.Size([128, 4, 3, 28, 28]) torch.Size([128, 3, 28, 28])\n",
      "torch.Size([128, 4, 3, 28, 28]) torch.Size([128, 3, 28, 28])\n",
      "torch.Size([128, 4, 3, 28, 28]) torch.Size([128, 3, 28, 28])\n",
      "torch.Size([128, 4, 3, 28, 28]) torch.Size([128, 3, 28, 28])\n",
      "torch.Size([128, 4, 3, 28, 28]) torch.Size([128, 3, 28, 28])\n",
      "torch.Size([128, 4, 3, 28, 28]) torch.Size([128, 3, 28, 28])\n",
      "torch.Size([128, 4, 3, 28, 28]) torch.Size([128, 3, 28, 28])\n",
      "torch.Size([128, 4, 3, 28, 28]) torch.Size([128, 3, 28, 28])\n",
      "torch.Size([128, 4, 3, 28, 28]) torch.Size([128, 3, 28, 28])\n",
      "torch.Size([128, 4, 3, 28, 28]) torch.Size([128, 3, 28, 28])\n",
      "torch.Size([128, 4, 3, 28, 28]) torch.Size([128, 3, 28, 28])\n",
      "torch.Size([128, 4, 3, 28, 28]) torch.Size([128, 3, 28, 28])\n"
     ]
    },
    {
     "ename": "KeyboardInterrupt",
     "evalue": "",
     "output_type": "error",
     "traceback": [
      "\u001b[1;31m---------------------------------------------------------------------------\u001b[0m",
      "\u001b[1;31mKeyboardInterrupt\u001b[0m                         Traceback (most recent call last)",
      "\u001b[1;32m<ipython-input-38-f6d691e58068>\u001b[0m in \u001b[0;36m<module>\u001b[1;34m\u001b[0m\n\u001b[0;32m      9\u001b[0m         \u001b[0mloss\u001b[0m\u001b[1;33m.\u001b[0m\u001b[0mbackward\u001b[0m\u001b[1;33m(\u001b[0m\u001b[1;33m)\u001b[0m\u001b[1;33m\u001b[0m\u001b[1;33m\u001b[0m\u001b[0m\n\u001b[0;32m     10\u001b[0m         \u001b[0moptimizer\u001b[0m\u001b[1;33m.\u001b[0m\u001b[0mstep\u001b[0m\u001b[1;33m(\u001b[0m\u001b[1;33m)\u001b[0m\u001b[1;33m\u001b[0m\u001b[1;33m\u001b[0m\u001b[0m\n\u001b[1;32m---> 11\u001b[1;33m         \u001b[0mtrain_log\u001b[0m\u001b[1;33m.\u001b[0m\u001b[0mappend\u001b[0m\u001b[1;33m(\u001b[0m\u001b[0mloss\u001b[0m\u001b[1;33m.\u001b[0m\u001b[0mitem\u001b[0m\u001b[1;33m(\u001b[0m\u001b[1;33m)\u001b[0m\u001b[1;33m)\u001b[0m\u001b[1;33m\u001b[0m\u001b[1;33m\u001b[0m\u001b[0m\n\u001b[0m\u001b[0;32m     12\u001b[0m         \u001b[0mk\u001b[0m \u001b[1;33m+=\u001b[0m \u001b[1;36m1\u001b[0m\u001b[1;33m\u001b[0m\u001b[1;33m\u001b[0m\u001b[0m\n\u001b[0;32m     13\u001b[0m \u001b[1;33m\u001b[0m\u001b[0m\n",
      "\u001b[1;31mKeyboardInterrupt\u001b[0m: "
     ]
    }
   ],
   "source": [
    "# Training loop\n",
    "for epoch in range(n_epochs):\n",
    "    for mini_batch in train_loader:\n",
    "        # https://jdhao.github.io/2019/07/10/pytorch_view_reshape_transpose_permute/\n",
    "        mini_batch = mini_batch.permute(0,3,1,2).to(device) #To save memory we send one batch to cuda at the time\n",
    "        logits,dist = net(mini_batch)\n",
    "        loss = calc_loss(logits,mini_batch)\n",
    "        optimizer.zero_grad()\n",
    "        loss.backward()\n",
    "        optimizer.step()\n",
    "        train_log.append(loss.item())\n",
    "        k += 1\n",
    "\n",
    "    with torch.no_grad():\n",
    "        logits,dist = net(X_val.permute(0,3,1,2).to(device))\n",
    "        loss = calc_loss(logits,mini_batch)\n",
    "        val_log[k] = loss.item()\n",
    "\n",
    "    if loss.item() < best_nll:\n",
    "        best_nll = loss.item()\n",
    "        save_checkpoint({'epoch': epoch,\n",
    "                         'state_dict': net.state_dict()}, save_dir)\n",
    "\n",
    "    print('[Epoch %d/%d][Step: %d] Train Loss: %s Test Loss: %s' \\\n",
    "          % (epoch, n_epochs, k, np.mean(train_log[-10:]), val_log[k]))"
   ]
  },
  {
   "cell_type": "code",
   "execution_count": null,
   "metadata": {},
   "outputs": [],
   "source": [
    "mini_batch.clone().long().view(-1)"
   ]
  },
  {
   "cell_type": "code",
   "execution_count": null,
   "metadata": {},
   "outputs": [],
   "source": [
    "logits.shape"
   ]
  }
 ],
 "metadata": {
  "kernelspec": {
   "display_name": "Python 3",
   "language": "python",
   "name": "python3"
  },
  "language_info": {
   "codemirror_mode": {
    "name": "ipython",
    "version": 3
   },
   "file_extension": ".py",
   "mimetype": "text/x-python",
   "name": "python",
   "nbconvert_exporter": "python",
   "pygments_lexer": "ipython3",
   "version": "3.7.4"
  }
 },
 "nbformat": 4,
 "nbformat_minor": 2
}
